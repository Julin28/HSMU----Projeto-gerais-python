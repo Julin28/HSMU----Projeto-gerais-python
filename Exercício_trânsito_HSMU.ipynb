{
  "nbformat": 4,
  "nbformat_minor": 0,
  "metadata": {
    "colab": {
      "name": "Exercício trânsito HSMU",
      "provenance": [],
      "collapsed_sections": [],
      "authorship_tag": "ABX9TyMyi0z2QZZ7ERU+PFFwlLrw",
      "include_colab_link": true
    },
    "kernelspec": {
      "name": "python3",
      "display_name": "Python 3"
    },
    "language_info": {
      "name": "python"
    }
  },
  "cells": [
    {
      "cell_type": "markdown",
      "metadata": {
        "id": "view-in-github",
        "colab_type": "text"
      },
      "source": [
        "<a href=\"https://colab.research.google.com/github/Julin28/HSMU----Projeto-gerais-python/blob/main/Exerc%C3%ADcio_tr%C3%A2nsito_HSMU.ipynb\" target=\"_parent\"><img src=\"https://colab.research.google.com/assets/colab-badge.svg\" alt=\"Open In Colab\"/></a>"
      ]
    },
    {
      "cell_type": "code",
      "metadata": {
        "id": "L8mE3hTelr_J"
      },
      "source": [
        "#Importando a biblioteca pandas\n",
        "import pandas as pd"
      ],
      "execution_count": 4,
      "outputs": []
    },
    {
      "cell_type": "code",
      "metadata": {
        "colab": {
          "base_uri": "https://localhost:8080/"
        },
        "id": "wLy7x3kSmQeN",
        "outputId": "8a7945db-3ac5-4fc7-ba62-9ae2b0c6b57b"
      },
      "source": [
        "#Extraindo o arquivo para leitura csv\n",
        "df = pd.read_csv('/content/teste.csv', sep=';', error_bad_lines=False)"
      ],
      "execution_count": 18,
      "outputs": [
        {
          "output_type": "stream",
          "name": "stderr",
          "text": [
            "b'Skipping line 9750: expected 13 fields, saw 24\\nSkipping line 29289: expected 13 fields, saw 18\\nSkipping line 34151: expected 13 fields, saw 19\\nSkipping line 48748: expected 13 fields, saw 15\\nSkipping line 53651: expected 13 fields, saw 16\\nSkipping line 63374: expected 13 fields, saw 22\\n'\n",
            "b'Skipping line 77991: expected 13 fields, saw 16\\nSkipping line 87686: expected 13 fields, saw 14\\nSkipping line 92547: expected 13 fields, saw 14\\nSkipping line 97401: expected 13 fields, saw 16\\nSkipping line 111955: expected 13 fields, saw 14\\nSkipping line 121700: expected 13 fields, saw 18\\n'\n",
            "/usr/local/lib/python3.7/dist-packages/IPython/core/interactiveshell.py:2718: DtypeWarning: Columns (7) have mixed types.Specify dtype option on import or set low_memory=False.\n",
            "  interactivity=interactivity, compiler=compiler, result=result)\n"
          ]
        }
      ]
    },
    {
      "cell_type": "code",
      "metadata": {
        "colab": {
          "base_uri": "https://localhost:8080/",
          "height": 1000
        },
        "id": "GKPfYe2CpKOH",
        "outputId": "21819e2f-76e6-4d50-c09f-62e7974896d3"
      },
      "source": [
        "#Entendendo o csv\n",
        "df.head(10)"
      ],
      "execution_count": 23,
      "outputs": [
        {
          "output_type": "execute_result",
          "data": {
            "text/html": [
              "<div>\n",
              "<style scoped>\n",
              "    .dataframe tbody tr th:only-of-type {\n",
              "        vertical-align: middle;\n",
              "    }\n",
              "\n",
              "    .dataframe tbody tr th {\n",
              "        vertical-align: top;\n",
              "    }\n",
              "\n",
              "    .dataframe thead th {\n",
              "        text-align: right;\n",
              "    }\n",
              "</style>\n",
              "<table border=\"1\" class=\"dataframe\">\n",
              "  <thead>\n",
              "    <tr style=\"text-align: right;\">\n",
              "      <th></th>\n",
              "      <th>tipo_infracao</th>\n",
              "      <th>descricao</th>\n",
              "      <th>tipo_infrator</th>\n",
              "      <th>tipo_veiculo</th>\n",
              "      <th>cometimento</th>\n",
              "      <th>hora_cometimento</th>\n",
              "      <th>auinf_local_rodovia</th>\n",
              "      <th>auinf_local_km</th>\n",
              "      <th>auinf_local_referencia</th>\n",
              "      <th>auinf_local_complemento</th>\n",
              "      <th>auinf_local_latitude</th>\n",
              "      <th>auinf_local_longitude</th>\n",
              "      <th>grav_tipo</th>\n",
              "    </tr>\n",
              "  </thead>\n",
              "  <tbody>\n",
              "    <tr>\n",
              "      <th>0</th>\n",
              "      <td>7455-0</td>\n",
              "      <td>Transitar em velocidade superior à máxima perm...</td>\n",
              "      <td>Condutor</td>\n",
              "      <td>MOTOCICLET</td>\n",
              "      <td>01/07/2020</td>\n",
              "      <td>00:02</td>\n",
              "      <td>DF-003 (EPIA) KM 21,0 SENTIDO SUL             ...</td>\n",
              "      <td>NaN</td>\n",
              "      <td>NaN</td>\n",
              "      <td>NaN</td>\n",
              "      <td>NaN</td>\n",
              "      <td>NaN</td>\n",
              "      <td>Média</td>\n",
              "    </tr>\n",
              "    <tr>\n",
              "      <th>1</th>\n",
              "      <td>7463-0</td>\n",
              "      <td>Transitar em velocidade superior à máxima perm...</td>\n",
              "      <td>Condutor</td>\n",
              "      <td>UTILITARIO</td>\n",
              "      <td>01/07/2020</td>\n",
              "      <td>00:04</td>\n",
              "      <td>DF-075(EPNB) KM 02 SENTIDO SAMAMBAIA          ...</td>\n",
              "      <td>NaN</td>\n",
              "      <td>NaN</td>\n",
              "      <td>NaN</td>\n",
              "      <td>NaN</td>\n",
              "      <td>NaN</td>\n",
              "      <td>Grave</td>\n",
              "    </tr>\n",
              "    <tr>\n",
              "      <th>2</th>\n",
              "      <td>7463-0</td>\n",
              "      <td>Transitar em velocidade superior à máxima perm...</td>\n",
              "      <td>Condutor</td>\n",
              "      <td>CAMINHAO</td>\n",
              "      <td>01/07/2020</td>\n",
              "      <td>00:05</td>\n",
              "      <td>DF-025 (EPDB) KM 04 SENTIDO BALAO DO AEROPORTO...</td>\n",
              "      <td>NaN</td>\n",
              "      <td>NaN</td>\n",
              "      <td>NaN</td>\n",
              "      <td>NaN</td>\n",
              "      <td>NaN</td>\n",
              "      <td>Grave</td>\n",
              "    </tr>\n",
              "    <tr>\n",
              "      <th>3</th>\n",
              "      <td>7455-0</td>\n",
              "      <td>Transitar em velocidade superior à máxima perm...</td>\n",
              "      <td>Condutor</td>\n",
              "      <td>AUTOMOVEL</td>\n",
              "      <td>01/07/2020</td>\n",
              "      <td>00:06</td>\n",
              "      <td>DF-075(EPNB) KM 02 SENTIDO SAMAMBAIA          ...</td>\n",
              "      <td>NaN</td>\n",
              "      <td>NaN</td>\n",
              "      <td>NaN</td>\n",
              "      <td>NaN</td>\n",
              "      <td>NaN</td>\n",
              "      <td>Média</td>\n",
              "    </tr>\n",
              "    <tr>\n",
              "      <th>4</th>\n",
              "      <td>7455-0</td>\n",
              "      <td>Transitar em velocidade superior à máxima perm...</td>\n",
              "      <td>Condutor</td>\n",
              "      <td>UTILITARIO</td>\n",
              "      <td>01/07/2020</td>\n",
              "      <td>00:07</td>\n",
              "      <td>DF-075(EPNB),KM 3,6 SENTIDO DF-003(EPIA)      ...</td>\n",
              "      <td>NaN</td>\n",
              "      <td>NaN</td>\n",
              "      <td>NaN</td>\n",
              "      <td>NaN</td>\n",
              "      <td>NaN</td>\n",
              "      <td>Média</td>\n",
              "    </tr>\n",
              "    <tr>\n",
              "      <th>5</th>\n",
              "      <td>7463-0</td>\n",
              "      <td>Transitar em velocidade superior à máxima perm...</td>\n",
              "      <td>Condutor</td>\n",
              "      <td>AUTOMOVEL</td>\n",
              "      <td>01/07/2020</td>\n",
              "      <td>00:11</td>\n",
              "      <td>DF-290 KM 27,8 SENTIDO GAMA                   ...</td>\n",
              "      <td>NaN</td>\n",
              "      <td>NaN</td>\n",
              "      <td>NaN</td>\n",
              "      <td>NaN</td>\n",
              "      <td>NaN</td>\n",
              "      <td>Grave</td>\n",
              "    </tr>\n",
              "    <tr>\n",
              "      <th>6</th>\n",
              "      <td>7463-0</td>\n",
              "      <td>Transitar em velocidade superior à máxima perm...</td>\n",
              "      <td>Condutor</td>\n",
              "      <td>CAMINHAO</td>\n",
              "      <td>01/07/2020</td>\n",
              "      <td>00:11</td>\n",
              "      <td>DF-075(EPNB) KM 02 SENTIDO SAMAMBAIA          ...</td>\n",
              "      <td>NaN</td>\n",
              "      <td>NaN</td>\n",
              "      <td>NaN</td>\n",
              "      <td>NaN</td>\n",
              "      <td>NaN</td>\n",
              "      <td>Grave</td>\n",
              "    </tr>\n",
              "    <tr>\n",
              "      <th>7</th>\n",
              "      <td>6769-0</td>\n",
              "      <td>Conduzir veíc c/ defeito no sist de iluminação...</td>\n",
              "      <td>Proprietário</td>\n",
              "      <td>Caminhão Trator</td>\n",
              "      <td>01/07/2020</td>\n",
              "      <td>00:12</td>\n",
              "      <td>DF 003</td>\n",
              "      <td>0</td>\n",
              "      <td>Sentido Crescente</td>\n",
              "      <td>SC</td>\n",
              "      <td>-1.568.937.859</td>\n",
              "      <td>-4.784.911.996</td>\n",
              "      <td>Média</td>\n",
              "    </tr>\n",
              "    <tr>\n",
              "      <th>8</th>\n",
              "      <td>7455-0</td>\n",
              "      <td>Transitar em velocidade superior à máxima perm...</td>\n",
              "      <td>Condutor</td>\n",
              "      <td>AUTOMOVEL</td>\n",
              "      <td>01/07/2020</td>\n",
              "      <td>00:12</td>\n",
              "      <td>DF-075(EPNB)KM 02 SENTIDO N. BANDEIRANTE      ...</td>\n",
              "      <td>NaN</td>\n",
              "      <td>NaN</td>\n",
              "      <td>NaN</td>\n",
              "      <td>NaN</td>\n",
              "      <td>NaN</td>\n",
              "      <td>Média</td>\n",
              "    </tr>\n",
              "    <tr>\n",
              "      <th>9</th>\n",
              "      <td>7463-0</td>\n",
              "      <td>Transitar em velocidade superior à máxima perm...</td>\n",
              "      <td>Condutor</td>\n",
              "      <td>CAMINHONET</td>\n",
              "      <td>01/07/2020</td>\n",
              "      <td>00:17</td>\n",
              "      <td>DF-075 (EPNB) KM 0,5 SENTIDO SAMAMBAIA        ...</td>\n",
              "      <td>NaN</td>\n",
              "      <td>NaN</td>\n",
              "      <td>NaN</td>\n",
              "      <td>NaN</td>\n",
              "      <td>NaN</td>\n",
              "      <td>Grave</td>\n",
              "    </tr>\n",
              "  </tbody>\n",
              "</table>\n",
              "</div>"
            ],
            "text/plain": [
              "  tipo_infracao  ... grav_tipo\n",
              "0        7455-0  ...     Média\n",
              "1        7463-0  ...     Grave\n",
              "2        7463-0  ...     Grave\n",
              "3        7455-0  ...     Média\n",
              "4        7455-0  ...     Média\n",
              "5        7463-0  ...     Grave\n",
              "6        7463-0  ...     Grave\n",
              "7        6769-0  ...     Média\n",
              "8        7455-0  ...     Média\n",
              "9        7463-0  ...     Grave\n",
              "\n",
              "[10 rows x 13 columns]"
            ]
          },
          "metadata": {},
          "execution_count": 23
        }
      ]
    },
    {
      "cell_type": "code",
      "metadata": {
        "id": "bE8U5RVRvF2Z"
      },
      "source": [
        "#limpando etapas nulas\n",
        "df.isnull().sum()\n",
        "\n",
        "df.dropna(how='all', inplace=True)"
      ],
      "execution_count": 47,
      "outputs": []
    },
    {
      "cell_type": "code",
      "metadata": {
        "colab": {
          "base_uri": "https://localhost:8080/"
        },
        "id": "u1c5G5i-qepK",
        "outputId": "7c734e38-18c9-4ef1-a9bc-3ff385886fb6"
      },
      "source": [
        "#Qual é o total de infrações por tipo de infração (leve, média, grave, gravíssima)?\n",
        "df.groupby('grav_tipo')['tipo_infracao'].count()"
      ],
      "execution_count": 48,
      "outputs": [
        {
          "output_type": "execute_result",
          "data": {
            "text/plain": [
              "grav_tipo\n",
              "Grave         14560\n",
              "Gravíssima    11206\n",
              "Leve          27126\n",
              "Média         87145\n",
              "Name: tipo_infracao, dtype: int64"
            ]
          },
          "metadata": {},
          "execution_count": 48
        }
      ]
    },
    {
      "cell_type": "code",
      "metadata": {
        "colab": {
          "base_uri": "https://localhost:8080/"
        },
        "id": "eJZG7zurrfG4",
        "outputId": "3eeb588d-a83a-4e51-f6e0-5677b72b0141"
      },
      "source": [
        "#Qual é o total de infrações por dia?\n",
        "\n",
        "#transformando dtype do campo cometimento de obj para data\n",
        "df['cometimento'] = pd.to_datetime(df['cometimento'], format='%d/%m/%Y', errors='coerce')\n",
        "\n",
        "#calculando o total de infraçoes por dia\n",
        "df.groupby('cometimento')['tipo_infracao'].count()"
      ],
      "execution_count": 61,
      "outputs": [
        {
          "output_type": "execute_result",
          "data": {
            "text/plain": [
              "cometimento\n",
              "2020-07-01    2807\n",
              "2020-07-02    2848\n",
              "2020-07-03    2943\n",
              "2020-07-04    2110\n",
              "2020-07-05    1812\n",
              "2020-07-06    2636\n",
              "2020-07-07    5202\n",
              "2020-07-08    5174\n",
              "2020-07-09    5372\n",
              "2020-07-10    5571\n",
              "2020-07-11    3950\n",
              "2020-07-12    3776\n",
              "2020-07-13    5246\n",
              "2020-07-14    5173\n",
              "2020-07-15    5434\n",
              "2020-07-16    5354\n",
              "2020-07-17    5692\n",
              "2020-07-18    4310\n",
              "2020-07-19    3790\n",
              "2020-07-20    5085\n",
              "2020-07-21    5106\n",
              "2020-07-22    5503\n",
              "2020-07-23    5080\n",
              "2020-07-24    5504\n",
              "2020-07-25    4298\n",
              "2020-07-26    3634\n",
              "2020-07-27    5526\n",
              "2020-07-28    4825\n",
              "2020-07-29    5474\n",
              "2020-07-30    5339\n",
              "2020-07-31    5464\n",
              "Name: tipo_infracao, dtype: int64"
            ]
          },
          "metadata": {},
          "execution_count": 61
        }
      ]
    },
    {
      "cell_type": "code",
      "metadata": {
        "id": "30BJgQjjxEhk"
      },
      "source": [
        "#A base de dados possui valores faltantes?\n",
        "##SIM, foram limpos no começo"
      ],
      "execution_count": 59,
      "outputs": []
    }
  ]
}